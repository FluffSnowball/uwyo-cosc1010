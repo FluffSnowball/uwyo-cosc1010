{
 "cells": [
  {
   "cell_type": "code",
   "execution_count": 91,
   "metadata": {
    "slideshow": {
     "slide_type": "slide"
    }
   },
   "outputs": [
    {
     "name": "stdout",
     "output_type": "stream",
     "text": [
      "['trek', 'cannondale', 'specialized']\n"
     ]
    }
   ],
   "source": [
    "# create our list of bikes \n",
    "bikes = [\"trek\",\"cannondale\",\"specialized\"]\n",
    "# and print the list \n",
    "print(bikes)"
   ]
  },
  {
   "cell_type": "code",
   "execution_count": 92,
   "metadata": {
    "slideshow": {
     "slide_type": "slide"
    }
   },
   "outputs": [
    {
     "name": "stdout",
     "output_type": "stream",
     "text": [
      "trek\n"
     ]
    }
   ],
   "source": [
    "bikes = [\"trek\",\"cannondale\",\"specialized\"]\n",
    "bike = bikes[0]\n",
    "print(bike)"
   ]
  },
  {
   "cell_type": "code",
   "execution_count": 93,
   "metadata": {
    "slideshow": {
     "slide_type": "slide"
    }
   },
   "outputs": [
    {
     "name": "stdout",
     "output_type": "stream",
     "text": [
      "Trek\n"
     ]
    }
   ],
   "source": [
    "bikes = [\"trek\",\"cannondale\",\"specialized\"]\n",
    "print(bikes[0].title())"
   ]
  },
  {
   "cell_type": "code",
   "execution_count": 94,
   "metadata": {
    "slideshow": {
     "slide_type": "slide"
    }
   },
   "outputs": [
    {
     "name": "stdout",
     "output_type": "stream",
     "text": [
      "Specialized\n"
     ]
    }
   ],
   "source": [
    "bikes = [\"trek\",\"cannondale\",\"specialized\"]\n",
    "print(bikes[-1].title())"
   ]
  },
  {
   "cell_type": "code",
   "execution_count": 95,
   "metadata": {
    "slideshow": {
     "slide_type": "slide"
    }
   },
   "outputs": [
    {
     "name": "stdout",
     "output_type": "stream",
     "text": [
      "My first bike was a Trek\n"
     ]
    }
   ],
   "source": [
    "bikes = [\"trek\",\"cannondale\",\"specialized\"]\n",
    "message = f\"My first bike was a {bikes[0].title()}\"\n",
    "print(message)"
   ]
  },
  {
   "cell_type": "code",
   "execution_count": 96,
   "metadata": {
    "slideshow": {
     "slide_type": "slide"
    }
   },
   "outputs": [
    {
     "name": "stdout",
     "output_type": "stream",
     "text": [
      "['Laramie', 'Casper', 'Jackson Hole', 'Cheyenne']\n",
      "['Laramie', 'Casper', 'Sheridan', 'Cheyenne']\n"
     ]
    }
   ],
   "source": [
    "cities = [\"Laramie\",\"Casper\",\"Jackson Hole\",\"Cheyenne\"]\n",
    "print(cities)\n",
    "\n",
    "cities[2] = \"Sheridan\"\n",
    "print(cities)"
   ]
  },
  {
   "cell_type": "code",
   "execution_count": 97,
   "metadata": {
    "slideshow": {
     "slide_type": "slide"
    }
   },
   "outputs": [
    {
     "name": "stdout",
     "output_type": "stream",
     "text": [
      "['Laramie', 'Casper', 'Jackson Hole', 'Cheyenne']\n",
      "['Laramie', 'Casper', 'Jackson Hole', 'Cheyenne', 'Sheridan']\n"
     ]
    }
   ],
   "source": [
    "cities = [\"Laramie\",\"Casper\",\"Jackson Hole\",\"Cheyenne\"]\n",
    "print(cities)\n",
    "\n",
    "cities.append(\"Sheridan\")\n",
    "print(cities)"
   ]
  },
  {
   "cell_type": "code",
   "execution_count": 98,
   "metadata": {
    "slideshow": {
     "slide_type": "slide"
    }
   },
   "outputs": [
    {
     "name": "stdout",
     "output_type": "stream",
     "text": [
      "0\n",
      "['dog', 'cat', 'bird', 'pig', 'crow', 'turtle']\n",
      "6\n"
     ]
    }
   ],
   "source": [
    "#declare the empty list\n",
    "animals = [] \n",
    "print(len(animals))\n",
    "#now add in different animals\n",
    "animals.append(\"dog\")\n",
    "animals.append(\"cat\")\n",
    "animals.append(\"bird\")\n",
    "animals.append(\"pig\")\n",
    "animals.append(\"crow\")\n",
    "animals.append(\"turtle\")\n",
    "\n",
    "print(animals)\n",
    "print(len(animals))"
   ]
  },
  {
   "cell_type": "code",
   "execution_count": 99,
   "metadata": {
    "slideshow": {
     "slide_type": "slide"
    }
   },
   "outputs": [
    {
     "name": "stdout",
     "output_type": "stream",
     "text": [
      "['Laramie', 'Casper', 'Jackson Hole', 'Cheyenne']\n",
      "['Laramie', 'Gillete', 'Sheridan', 'Casper', 'Buford', 'Jackson Hole', 'Cheyenne']\n"
     ]
    }
   ],
   "source": [
    "cities = [\"Laramie\",\"Casper\",\"Jackson Hole\",\"Cheyenne\"]\n",
    "print(cities)\n",
    "\n",
    "cities.insert(1,\"Sheridan\")\n",
    "cities.insert(3,\"Buford\")\n",
    "cities.insert(1,\"Gillete\")\n",
    "print(cities)"
   ]
  },
  {
   "cell_type": "code",
   "execution_count": 100,
   "metadata": {
    "slideshow": {
     "slide_type": "slide"
    }
   },
   "outputs": [
    {
     "name": "stdout",
     "output_type": "stream",
     "text": [
      "['Laramie', 'Casper', 'Jackson Hole', 'Cheyenne']\n",
      "['Laramie', 'Jackson Hole', 'Cheyenne']\n"
     ]
    }
   ],
   "source": [
    "cities = [\"Laramie\",\"Casper\",\"Jackson Hole\",\"Cheyenne\"]\n",
    "print(cities)\n",
    "\n",
    "del cities[1]\n",
    "print(cities)"
   ]
  },
  {
   "cell_type": "code",
   "execution_count": 128,
   "metadata": {
    "slideshow": {
     "slide_type": "slide"
    }
   },
   "outputs": [
    {
     "name": "stdout",
     "output_type": "stream",
     "text": [
      "['Laramie', 'Casper', 'Jackson Hole', 'Cheyenne']\n",
      "We removed Cheyenne\n",
      "['Laramie', 'Casper', 'Jackson Hole']\n"
     ]
    }
   ],
   "source": [
    "cities = [\"Laramie\",\"Casper\",\"Jackson Hole\",\"Cheyenne\"]\n",
    "print(cities)\n",
    "\n",
    "removed_city = cities.pop()\n",
    "print(f\"We removed {removed_city}\")\n",
    "\n",
    "print(cities)"
   ]
  },
  {
   "cell_type": "code",
   "execution_count": 129,
   "metadata": {
    "slideshow": {
     "slide_type": "slide"
    }
   },
   "outputs": [
    {
     "name": "stdout",
     "output_type": "stream",
     "text": [
      "['Laramie', 'Casper', 'Jackson Hole', 'Cheyenne']\n",
      "We removed Casper\n",
      "['Laramie', 'Jackson Hole', 'Cheyenne']\n"
     ]
    }
   ],
   "source": [
    "cities = [\"Laramie\",\"Casper\",\"Jackson Hole\",\"Cheyenne\"]\n",
    "print(cities)\n",
    "\n",
    "print(f\"We removed {cities.pop(1)}\")\n",
    "\n",
    "print(cities)"
   ]
  },
  {
   "cell_type": "code",
   "execution_count": 137,
   "metadata": {
    "slideshow": {
     "slide_type": "slide"
    }
   },
   "outputs": [
    {
     "name": "stdout",
     "output_type": "stream",
     "text": [
      "['Laramie', 'Casper', 'Jackson Hole', 'Cheyenne', 'Casper']\n",
      "['Laramie', 'Jackson Hole', 'Cheyenne', 'Casper']\n"
     ]
    }
   ],
   "source": [
    "cities = [\"Laramie\",\"Casper\",\"Jackson Hole\",\"Cheyenne\",\"Casper\"]\n",
    "print(cities)\n",
    "\n",
    "cities.remove('Casper')\n",
    "\n",
    "print(cities)"
   ]
  },
  {
   "cell_type": "code",
   "execution_count": 146,
   "metadata": {
    "slideshow": {
     "slide_type": "slide"
    }
   },
   "outputs": [
    {
     "name": "stdout",
     "output_type": "stream",
     "text": [
      "['Laramie', 'Casper', 'Jackson Hole', 'Cheyenne', 'Buford', 'casper', 'buford']\n",
      "['Buford', 'Casper', 'Cheyenne', 'Jackson Hole', 'Laramie', 'buford', 'casper']\n"
     ]
    }
   ],
   "source": [
    "cities = [\"Laramie\",\"Casper\",\"Jackson Hole\",\"Cheyenne\",\"Buford\",\"casper\",\"buford\"]\n",
    "print(cities)\n",
    "\n",
    "cities.sort() \n",
    "print(cities)"
   ]
  },
  {
   "cell_type": "code",
   "execution_count": 147,
   "metadata": {
    "slideshow": {
     "slide_type": "slide"
    }
   },
   "outputs": [
    {
     "name": "stdout",
     "output_type": "stream",
     "text": [
      "['Laramie', 'Casper', 'Jackson Hole', 'Cheyenne']\n",
      "['Laramie', 'Jackson Hole', 'Cheyenne', 'Casper']\n"
     ]
    }
   ],
   "source": [
    "cities = [\"Laramie\",\"Casper\",\"Jackson Hole\",\"Cheyenne\"]\n",
    "print(cities)\n",
    "\n",
    "cities.sort(reverse=True) \n",
    "print(cities)"
   ]
  },
  {
   "cell_type": "code",
   "execution_count": 156,
   "metadata": {
    "slideshow": {
     "slide_type": "slide"
    }
   },
   "outputs": [
    {
     "name": "stdout",
     "output_type": "stream",
     "text": [
      "['Laramie', 'Casper', 'Jackson Hole', 'Cheyenne']\n",
      "['Casper', 'Cheyenne', 'Jackson Hole', 'Laramie']\n",
      "['Laramie', 'Casper', 'Jackson Hole', 'Cheyenne']\n",
      "['Casper', 'Cheyenne', 'Jackson Hole', 'Laramie']\n"
     ]
    }
   ],
   "source": [
    "cities = [\"Laramie\",\"Casper\",\"Jackson Hole\",\"Cheyenne\"]\n",
    "print(cities)\n",
    "\n",
    "print(sorted(cities))\n",
    "alphabetical = sorted(cities)\n",
    "\n",
    "print(cities)\n",
    "print (alphabetical)"
   ]
  },
  {
   "cell_type": "code",
   "execution_count": 157,
   "metadata": {
    "slideshow": {
     "slide_type": "slide"
    }
   },
   "outputs": [
    {
     "name": "stdout",
     "output_type": "stream",
     "text": [
      "['Laramie', 'Casper', 'Jackson Hole', 'Cheyenne']\n",
      "['Cheyenne', 'Jackson Hole', 'Casper', 'Laramie']\n",
      "['Laramie', 'Casper', 'Jackson Hole', 'Cheyenne']\n"
     ]
    }
   ],
   "source": [
    "cities = [\"Laramie\",\"Casper\",\"Jackson Hole\",\"Cheyenne\"]\n",
    "print(cities)\n",
    "cities.reverse() \n",
    "print(cities)\n",
    "cities.reverse()\n",
    "print(cities)"
   ]
  },
  {
   "cell_type": "code",
   "execution_count": 158,
   "metadata": {
    "slideshow": {
     "slide_type": "slide"
    }
   },
   "outputs": [
    {
     "name": "stdout",
     "output_type": "stream",
     "text": [
      "4\n"
     ]
    }
   ],
   "source": [
    "cities = [\"Laramie\",\"Casper\",\"Jackson Hole\",\"Cheyenne\"]\n",
    "print(len(cities))"
   ]
  },
  {
   "cell_type": "code",
   "execution_count": 159,
   "metadata": {
    "slideshow": {
     "slide_type": "slide"
    }
   },
   "outputs": [
    {
     "ename": "IndexError",
     "evalue": "list index out of range",
     "output_type": "error",
     "traceback": [
      "\u001b[0;31m---------------------------------------------------------------------------\u001b[0m",
      "\u001b[0;31mIndexError\u001b[0m                                Traceback (most recent call last)",
      "Cell \u001b[0;32mIn[159], line 2\u001b[0m\n\u001b[1;32m      1\u001b[0m cities \u001b[38;5;241m=\u001b[39m [\u001b[38;5;124m\"\u001b[39m\u001b[38;5;124mLaramie\u001b[39m\u001b[38;5;124m\"\u001b[39m,\u001b[38;5;124m\"\u001b[39m\u001b[38;5;124mCasper\u001b[39m\u001b[38;5;124m\"\u001b[39m,\u001b[38;5;124m\"\u001b[39m\u001b[38;5;124mJackson Hole\u001b[39m\u001b[38;5;124m\"\u001b[39m,\u001b[38;5;124m\"\u001b[39m\u001b[38;5;124mCheyenne\u001b[39m\u001b[38;5;124m\"\u001b[39m]\n\u001b[0;32m----> 2\u001b[0m \u001b[38;5;28mprint\u001b[39m(\u001b[43mcities\u001b[49m\u001b[43m[\u001b[49m\u001b[38;5;241;43m4\u001b[39;49m\u001b[43m]\u001b[49m)\n",
      "\u001b[0;31mIndexError\u001b[0m: list index out of range"
     ]
    }
   ],
   "source": [
    "cities = [\"Laramie\",\"Casper\",\"Jackson Hole\",\"Cheyenne\"]\n",
    "print(cities[4])"
   ]
  },
  {
   "cell_type": "markdown",
   "metadata": {
    "slideshow": {
     "slide_type": "skip"
    }
   },
   "source": []
  }
 ],
 "metadata": {
  "celltoolbar": "Slideshow",
  "kernelspec": {
   "display_name": "Python 3 (ipykernel)",
   "language": "python",
   "name": "python3"
  },
  "language_info": {
   "codemirror_mode": {
    "name": "ipython",
    "version": 3
   },
   "file_extension": ".py",
   "mimetype": "text/x-python",
   "name": "python",
   "nbconvert_exporter": "python",
   "pygments_lexer": "ipython3",
   "version": "3.12.1"
  }
 },
 "nbformat": 4,
 "nbformat_minor": 2
}
